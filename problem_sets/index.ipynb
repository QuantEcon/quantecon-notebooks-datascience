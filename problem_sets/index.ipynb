{
 "cells": [
  {
   "cell_type": "markdown",
   "metadata": {},
   "source": [
    "# Problem Sets\n",
    "\n",
    "Here are problem sets to check your understanding of the course material.\n",
    "\n",
    "<div class=\"toctree\">\n",
    "\n",
    "- [QuantEcon Datascience: Problem Set 1](problem_set_1.ipynb)\n",
    "- [QuantEcon Datascience: Problem Set 2](problem_set_2.ipynb)\n",
    "- [QuantEcon Datascience: Problem Set 3](problem_set_3.ipynb)\n",
    "- [QuantEcon Datascience: Problem Set 4](problem_set_4.ipynb)\n",
    "- [QuantEcon Datascience: Problem Set 5](problem_set_5.ipynb)\n",
    "- [QuantEcon Datascience: Problem Set 6](problem_set_6.ipynb)\n",
    "- [QuantEcon Datascience: Problem Set 7](problem_set_7.ipynb)\n",
    "- [QuantEcon Datascience: Problem Set 8](problem_set_8.ipynb)"
   ]
  }
 ],
 "metadata": {
  "date": 1577609142.572226,
  "filename": "index.rst",
  "kernelspec": {
   "display_name": "Python",
   "language": "python3",
   "name": "python3"
  },
  "title": "Problem Sets"
 },
 "nbformat": 4,
 "nbformat_minor": 2
}