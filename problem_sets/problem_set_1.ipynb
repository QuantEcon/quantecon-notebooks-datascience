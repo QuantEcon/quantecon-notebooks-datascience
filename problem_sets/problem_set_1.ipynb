{
 "cells": [
  {
   "cell_type": "markdown",
   "metadata": {},
   "source": [
    "# QuantEcon Datascience: Problem Set 1\n",
    "\n",
    "See “Check Your Understanding” from [basics](../python_fundamentals/basics.ipynb) and [collections](../python_fundamentals/collections.ipynb)"
   ]
  },
  {
   "cell_type": "markdown",
   "metadata": {},
   "source": [
    "## Question 1\n",
    "\n",
    "Below this cell, add\n",
    "\n",
    "1. A markdown cell with\n",
    "  -  two levels of headings;\n",
    "  -  a numbered list;\n",
    "  -  an unnumbered list;\n",
    "  -  text with a `%` and a `$` sign (hint: look at this cell and [escape characters](https://www.markdownguide.org/basic-syntax/#characters-you-can-escape))\n",
    "  -  backticked code (see [https://github.com/adam-p/markdown-here/wiki/Markdown-Cheatsheet](https://github.com/adam-p/markdown-here/wiki/Markdown-Cheatsheet))  \n",
    "1. A markdown cell with\n",
    "  - the [quadratic formula](https://en.wikipedia.org/wiki/Quadratic_formula) embedded in the cell using [LaTeX](https://jupyter-notebook.readthedocs.io/en/stable/examples/Notebook/Typesetting%20Equations.html)  "
   ]
  },
  {
   "cell_type": "markdown",
   "metadata": {},
   "source": [
    "## Question 2\n",
    "\n",
    "Use the following code, which sets up variables `a, b,` and `c`, to find the roots using the quadratic formula.\n",
    "\n",
    "$$\n",
    "a x^2 + b x + c = 0\n",
    "$$"
   ]
  },
  {
   "cell_type": "code",
   "execution_count": null,
   "metadata": {
    "hide-output": false
   },
   "outputs": [],
   "source": [
    "a = 1.0\n",
    "b = 2.0\n",
    "c = 1.0\n",
    "# Your code goes here"
   ]
  },
  {
   "cell_type": "markdown",
   "metadata": {},
   "source": [
    "## Question 3\n",
    "\n",
    "In the cell below, use tab completion to find a function from the time\n",
    "module that displays the **local** time.\n",
    "\n",
    "Use `time.FUNC_NAME?` (where `FUNC_NAME` is replaced with the name\n",
    "of the function you found) to see information about that function,\n",
    "then call the function. (Hint: look for something involving the word\n",
    "`local`)."
   ]
  },
  {
   "cell_type": "code",
   "execution_count": null,
   "metadata": {
    "hide-output": false
   },
   "outputs": [],
   "source": [
    "import time\n",
    "# Your code goes here\n",
    "# time. # uncomment and hit <TAB> to see functions"
   ]
  },
  {
   "cell_type": "markdown",
   "metadata": {},
   "source": [
    "## Question 4\n",
    "\n",
    "Create the following variables:\n",
    "\n",
    "- `D`: A floating point number with the value 10,000  \n",
    "- `r`: A floating point number with the value 0.025  \n",
    "- `T`: An integer with the value 30  \n",
    "\n",
    "\n",
    "Compute the present discounted value of a payment (`D`) made\n",
    "in `T` years, assuming an interest rate of 2.5%. Save this value to\n",
    "a new variable called `PDV` and print your output.\n",
    "\n",
    "Hint: The formula is\n",
    "\n",
    "$$\n",
    "\\text{PDV} = \\frac{D}{(1 + r)^T}\n",
    "$$"
   ]
  },
  {
   "cell_type": "code",
   "execution_count": null,
   "metadata": {
    "hide-output": false
   },
   "outputs": [],
   "source": [
    "# Your code goes here"
   ]
  },
  {
   "cell_type": "markdown",
   "metadata": {},
   "source": [
    "## Question 5\n",
    "\n",
    "How could you use the variables `x` and `y` to create the sentence\n",
    "`Hello World` ?\n",
    "\n",
    "Hint: Think about how to represent a space as a string."
   ]
  },
  {
   "cell_type": "code",
   "execution_count": null,
   "metadata": {
    "hide-output": false
   },
   "outputs": [],
   "source": [
    "x = \"Hello\"\n",
    "y = \"World\"\n",
    "# Your code goes here"
   ]
  },
  {
   "cell_type": "markdown",
   "metadata": {},
   "source": [
    "## Question 6\n",
    "\n",
    "Suppose you are working with price data and come across the value\n",
    "`\"$6.50\"`.\n",
    "\n",
    "When Python tries to interpret this value, it sees the value as the string\n",
    "`\"$6.50\"` instead of the number `6.50`. (Quiz: why is this a\n",
    "problem? Think about the examples above.)\n",
    "\n",
    "In this exercise, your task is to convert the variable `price` below\n",
    "into a number.\n",
    "\n",
    "*Hint*: Once the string is in a suitable format, you can call\n",
    "`float(clean_price)` to make it a number."
   ]
  },
  {
   "cell_type": "code",
   "execution_count": null,
   "metadata": {
    "hide-output": false
   },
   "outputs": [],
   "source": [
    "price = \"$6.50\"\n",
    "# Your code goes here"
   ]
  },
  {
   "cell_type": "markdown",
   "metadata": {},
   "source": [
    "## Question 7\n",
    "\n",
    "Use Python formatting (e.g. `print(f\"text {somecode}\")` where `somecode` is a valid expression or variable name) to produce the following\n",
    "output."
   ]
  },
  {
   "cell_type": "markdown",
   "metadata": {
    "hide-output": false
   },
   "source": [
    "```text\n",
    "The 1st quarter revenue was $110M\n",
    "The 2nd quarter revenue was $95M\n",
    "The 3rd quarter revenue was $100M\n",
    "The 4th quarter revenue was $130M\n",
    "```\n"
   ]
  },
  {
   "cell_type": "code",
   "execution_count": null,
   "metadata": {
    "hide-output": false
   },
   "outputs": [],
   "source": [
    "# Your code goes here"
   ]
  },
  {
   "cell_type": "markdown",
   "metadata": {},
   "source": [
    "## Question 8\n",
    "\n",
    "Define two lists y and z.\n",
    "\n",
    "They can contain **anything you want**.\n",
    "\n",
    "Check what happens when you do y + z.\n",
    "When you have finished that, try 2 * x and x * 2 where x represents the lists you created (y, z, y + z)\n",
    "\n",
    "Briefly explain."
   ]
  },
  {
   "cell_type": "code",
   "execution_count": null,
   "metadata": {
    "hide-output": false
   },
   "outputs": [],
   "source": [
    "y = [] # fill me in!\n",
    "z = [] # fill me in!\n",
    "# Your code goes here"
   ]
  }
 ],
 "metadata": {
  "date": 1577609142.5960758,
  "filename": "problem_set_1.rst",
  "kernelspec": {
   "display_name": "Python 3",
   "language": "python",
   "name": "python3"
  },
  "language_info": {
   "codemirror_mode": {
    "name": "ipython",
    "version": 3
   },
   "file_extension": ".py",
   "mimetype": "text/x-python",
   "name": "python",
   "nbconvert_exporter": "python",
   "pygments_lexer": "ipython3",
   "version": "3.7.4"
  },
  "title": "QuantEcon Datascience: Problem Set 1"
 },
 "nbformat": 4,
 "nbformat_minor": 4
}
