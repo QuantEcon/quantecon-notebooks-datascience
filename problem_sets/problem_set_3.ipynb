{
 "cells": [
  {
   "cell_type": "markdown",
   "metadata": {},
   "source": [
    "# QuantEcon Datascience: Problem Set 3\n",
    "\n",
    "See “Check Your Understanding” from [Control Flow](../python_fundamentals/control_flow.ipynb), [Functions](../python_fundamentals/functions.ipynb), and [Introduction to Numpy](../scientific/numpy_arrays.ipynb)"
   ]
  },
  {
   "cell_type": "markdown",
   "metadata": {},
   "source": [
    "## Question 1\n",
    "\n",
    "Write a for loop that uses the lists of cities and states to print a message saying `“{city} is in {state}”`, where `{city}` and `{state}` are replaced by different values on each iteration.  You are *not* allowed to use `zip`."
   ]
  },
  {
   "cell_type": "code",
   "execution_count": null,
   "metadata": {
    "hide-output": false
   },
   "outputs": [],
   "source": [
    "cities = [\"Phoenix\", \"Austin\", \"San Diego\", \"New York\"]\n",
    "states = [\"Arizona\", \"Texas\", \"California\", \"New York\"]\n",
    "\n",
    "# Your code here"
   ]
  },
  {
   "cell_type": "markdown",
   "metadata": {},
   "source": [
    "Now, do the same thing with a `for` loop using `zip`."
   ]
  },
  {
   "cell_type": "code",
   "execution_count": null,
   "metadata": {
    "hide-output": false
   },
   "outputs": [],
   "source": [
    "cities = [\"Phoenix\", \"Austin\", \"San Diego\", \"New York\"]\n",
    "states = [\"Arizona\", \"Texas\", \"California\", \"New York\"]\n",
    "\n",
    "# Your code here"
   ]
  },
  {
   "cell_type": "markdown",
   "metadata": {},
   "source": [
    "Write a function that takes in a tuple as `(city, state)` and returns a string  `“{city} is in {state}”` with the values substituted."
   ]
  },
  {
   "cell_type": "code",
   "execution_count": null,
   "metadata": {
    "hide-output": false
   },
   "outputs": [],
   "source": [
    "# Your function here"
   ]
  },
  {
   "cell_type": "markdown",
   "metadata": {},
   "source": [
    "Now, use your function and a `comprehension` to print out `“{city} is in {state}”` as we did above."
   ]
  },
  {
   "cell_type": "code",
   "execution_count": null,
   "metadata": {
    "hide-output": false
   },
   "outputs": [],
   "source": [
    "cities = [\"Phoenix\", \"Austin\", \"San Diego\", \"New York\"]\n",
    "states = [\"Arizona\", \"Texas\", \"California\", \"New York\"]\n",
    "\n",
    "# Your code here"
   ]
  },
  {
   "cell_type": "markdown",
   "metadata": {},
   "source": [
    "## Question 2\n",
    "\n",
    "This exercise explores the concept of higher order functions, or functions\n",
    "that can be an input or output of another function.\n",
    "\n",
    "Below is code that implements a version of the generalized Cobb-Douglas production function which takes the form $ F(K, L) = z K^{\\alpha_1} L^{\\alpha_2} $.\n",
    "\n",
    "It takes as an argument `alpha_1`, `alpha_2`, and `z` and then\n",
    "*returns a function* that implements that parameterization of the\n",
    "Cobb-Douglas production function."
   ]
  },
  {
   "cell_type": "code",
   "execution_count": null,
   "metadata": {
    "hide-output": false
   },
   "outputs": [],
   "source": [
    "def cobb_douglas_factory(alpha_1, alpha_2, z=1.0):\n",
    "    \"\"\"\n",
    "    Return a function F(K, L) that implements the generalized Cobb-Douglas\n",
    "    production function with parameters alpha_1, alpha_2, and z\n",
    "\n",
    "    The returned function takes the form F(K, L) = z K^{\\alpha_1} L^{\\alpha_2}\n",
    "    \"\"\"\n",
    "    # I'm defining a function inside a function\n",
    "    def return_func(K, L):\n",
    "        return z * K**alpha_1 * L**alpha_2\n",
    "\n",
    "    # Notice I'm returning a function! :mind_blown:\n",
    "    return return_func"
   ]
  },
  {
   "cell_type": "markdown",
   "metadata": {},
   "source": [
    "We can use this function in two steps:\n",
    "\n",
    "1. Call it with `alpha_1`, `alpha_2`, and `z` and get a function in return.  \n",
    "1. Call the returned function with values of `K` and `L`.  \n",
    "\n",
    "\n",
    "Here’s how we would repeat the first Cobb-Douglas example from above:"
   ]
  },
  {
   "cell_type": "code",
   "execution_count": null,
   "metadata": {
    "hide-output": false
   },
   "outputs": [],
   "source": [
    "# step 1\n",
    "F2 = cobb_douglas_factory(0.33, 1-0.33)\n",
    "\n",
    "# step 2\n",
    "F2(1.0, 0.5)"
   ]
  },
  {
   "cell_type": "markdown",
   "metadata": {},
   "source": [
    "Now, it is your turn…\n",
    "\n",
    "Re-write the `returns_to_scale` function above to accept an additional argument\n",
    "`F` that represents a production function. The function should take in `K` and `L`\n",
    "and return output.\n",
    "\n",
    "We’ve written some code below to get you started."
   ]
  },
  {
   "cell_type": "code",
   "execution_count": null,
   "metadata": {
    "hide-output": false
   },
   "outputs": [],
   "source": [
    "def returns_to_scale2(F, K, L, gamma):\n",
    "    # call F with K and L\n",
    "\n",
    "    # scale K and L by gamma and repeat\n",
    "\n",
    "    # compute returns to scale\n",
    "\n",
    "    # Delete ``pass`` below after you have code\n",
    "    pass"
   ]
  },
  {
   "cell_type": "markdown",
   "metadata": {},
   "source": [
    "Test out your new function using the original `F2` that we defined above and\n",
    "using the `cobb_douglas` function defined earlier in the lecture.\n",
    "\n",
    "Do you get the same answer?"
   ]
  },
  {
   "cell_type": "code",
   "execution_count": null,
   "metadata": {
    "hide-output": false
   },
   "outputs": [],
   "source": [
    "# your code here"
   ]
  },
  {
   "cell_type": "markdown",
   "metadata": {},
   "source": [
    "## Question 3\n",
    "\n",
    "Let’s use our `cobb_douglas_factory` and `returns_to_scale2` functions\n",
    "to study returns to scale.\n",
    "\n",
    "What are the returns to scale when you set `alpha_1 = 0.3` and `alpha_2 =\n",
    "0.6`?"
   ]
  },
  {
   "cell_type": "code",
   "execution_count": null,
   "metadata": {
    "hide-output": false
   },
   "outputs": [],
   "source": [
    "# test with alpha_1 = 0.3 and alpha_2 = 0.6"
   ]
  },
  {
   "cell_type": "markdown",
   "metadata": {},
   "source": [
    "What about when you use `alpha_1 = 0.4` and `alpha_2 = 0.65`?"
   ]
  },
  {
   "cell_type": "code",
   "execution_count": null,
   "metadata": {
    "hide-output": false
   },
   "outputs": [],
   "source": [
    "# test with alpha_1 = 0.3 and alpha_2 = 0.6"
   ]
  },
  {
   "cell_type": "markdown",
   "metadata": {},
   "source": [
    "What do returns to scale have to do with the quantity $ \\alpha_1\n",
    "+ \\alpha_2 $? When will returns to scale be greater or less than 1?"
   ]
  },
  {
   "cell_type": "code",
   "execution_count": null,
   "metadata": {
    "hide-output": false
   },
   "outputs": [],
   "source": [
    "# your code here"
   ]
  },
  {
   "cell_type": "markdown",
   "metadata": {},
   "source": [
    "## Question 4\n",
    "\n",
    "Take a production function of only labor, `L`, with the following form\n",
    "\n",
    "$$\n",
    "f(L) = \\begin{cases} x^2 & \\text{ for } x \\in [0, 1)\\\\\n",
    "                    \\sqrt{x} & \\text{ for } x \\in [1, 2]\n",
    "        \\end{cases}\n",
    "$$\n",
    "\n",
    "Write a function to calculate the marginal product of labor (MPL) numerically by using a method similar to what we did in class."
   ]
  },
  {
   "cell_type": "code",
   "execution_count": null,
   "metadata": {
    "hide-output": false
   },
   "outputs": [],
   "source": [
    "# your code here"
   ]
  },
  {
   "cell_type": "markdown",
   "metadata": {},
   "source": [
    "Plot the MPL for $ x \\in [0,2] $  (you can choose some sort of grid over those numbers with `np.linspace`)."
   ]
  },
  {
   "cell_type": "code",
   "execution_count": null,
   "metadata": {
    "hide-output": false
   },
   "outputs": [],
   "source": [
    "# your code here"
   ]
  },
  {
   "cell_type": "markdown",
   "metadata": {},
   "source": [
    "Consider the scenario where you increase the scale of production by a factor of 10 percent more labor. Plot the returns to scale for a grid on $ x \\in [0, 1.5] $.\n",
    "*Hint:* For this, you may need to write your own version of the `returns_to_scale` function specific to this production function or carefully use the one above."
   ]
  },
  {
   "cell_type": "code",
   "execution_count": null,
   "metadata": {
    "hide-output": false
   },
   "outputs": [],
   "source": [
    "# your code here"
   ]
  },
  {
   "cell_type": "markdown",
   "metadata": {},
   "source": [
    "Compare these returns to the scale of the Cobb-Douglas functions we have worked with."
   ]
  },
  {
   "cell_type": "markdown",
   "metadata": {},
   "source": [
    "## Question 5\n",
    "\n",
    "An asset pays an alternating sequence of $ 0, 1, 0, 1, \\ldots $ up until some time `T`.\n",
    "\n",
    "If you discount with the interest rate `r =0.05`, what is the value of this\n",
    "asset for `T = 5, 10, 100`?  *Hint* In a loop, you could check if a number is even by looking at `num % 2 == 0`."
   ]
  },
  {
   "cell_type": "code",
   "execution_count": null,
   "metadata": {
    "hide-output": false
   },
   "outputs": [],
   "source": [
    "# your code here"
   ]
  },
  {
   "cell_type": "markdown",
   "metadata": {},
   "source": [
    "## Question 6\n",
    "\n",
    "An asset pays off $ y_t = \\gamma^t $ for $ t = 0, \\ldots T $ and $ T \\leq \\infty $.\n",
    "\n",
    "Let the discount rate be $ r $ and $ 0 < \\gamma < 1+r $.\n",
    "\n",
    "Use the following parameters to write code that values the asset for every $ T $ in\n",
    "`Ts`."
   ]
  },
  {
   "cell_type": "code",
   "execution_count": null,
   "metadata": {
    "hide-output": false
   },
   "outputs": [],
   "source": [
    "gamma = 1.02\n",
    "r = 0.05\n",
    "Ts = np.arange(2, 75)\n",
    "\n",
    "# your code here"
   ]
  },
  {
   "cell_type": "markdown",
   "metadata": {},
   "source": [
    "## Question 7\n",
    "\n",
    "Take the following definition for `X`. How would you do to extract the array `[[5, 6], [7, 8]]`?"
   ]
  },
  {
   "cell_type": "code",
   "execution_count": null,
   "metadata": {
    "hide-output": false
   },
   "outputs": [],
   "source": [
    "X = np.array([[[1, 2, 3], [3, 4, 5]], [[5, 6, 7], [7, 8, 9]]])\n",
    "\n",
    "# your code here"
   ]
  },
  {
   "cell_type": "markdown",
   "metadata": {},
   "source": [
    "## Question 8\n",
    "\n",
    "Let’s revisit a bond pricing example we saw in [Control flow](../python_fundamentals/control_flow.ipynb).\n",
    "\n",
    "Recall that the equation for pricing a bond with coupon payment $ C $,\n",
    "face value $ M $, yield to maturity $ i $, and periods to maturity\n",
    "$ N $ is\n",
    "\n",
    "$$\n",
    "\\begin{align*}\n",
    "    P &= \\left(\\sum_{n=1}^N \\frac{C}{(i+1)^n}\\right) + \\frac{M}{(1+i)^N} \\\\\n",
    "        &= C \\left(\\frac{1 - (1+i)^{-N}}{i} \\right) + M(1+i)^{-N}\n",
    "\\end{align*}\n",
    "$$\n",
    "\n",
    "In the code cell below, we have defined variables for `i`, `M` and `C`.\n",
    "\n",
    "You have two tasks:\n",
    "\n",
    "1. Define a numpy array `N` that contains all maturities between 1 and 10. (*hint* look at the `np.arange` function)  \n",
    "1. \n",
    "  <dl style='margin: 20px 0;'>\n",
    "  <dt>Using the equation above, determine the price of bonds with all maturity</dt>\n",
    "  <dd>\n",
    "  levels in your array.  \n",
    "  </dd>\n",
    "  \n",
    "  </dl>"
   ]
  },
  {
   "cell_type": "code",
   "execution_count": null,
   "metadata": {
    "hide-output": false
   },
   "outputs": [],
   "source": [
    "i = 0.03\n",
    "M = 100\n",
    "C = 5\n",
    "\n",
    "# Define array here\n",
    "\n",
    "# price bonds here"
   ]
  }
 ],
 "metadata": {
  "date": 1577609142.690944,
  "filename": "problem_set_3.rst",
  "kernelspec": {
   "display_name": "Python",
   "language": "python3",
   "name": "python3"
  },
  "title": "QuantEcon Datascience: Problem Set 3"
 },
 "nbformat": 4,
 "nbformat_minor": 2
}