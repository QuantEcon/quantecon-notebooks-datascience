{
 "cells": [
  {
   "cell_type": "markdown",
   "metadata": {},
   "source": [
    "# Problem Set 7"
   ]
  },
  {
   "cell_type": "code",
   "execution_count": null,
   "metadata": {
    "hide-output": false
   },
   "outputs": [],
   "source": [
    "import matplotlib.colors as mplc\n",
    "import matplotlib.patches as patches\n",
    "import matplotlib.pyplot as plt\n",
    "import pandas as pd\n",
    "import qeds"
   ]
  },
  {
   "cell_type": "markdown",
   "metadata": {},
   "source": [
    "## Question 1\n",
    "\n",
    "From [Data Visualization: Rules and Guidelines](../applications/visualization_rules.ipynb)\n",
    "\n",
    "Create a bar chart of the below data on Canadian GDP growth.\n",
    "Use a non-red color for the years 2000 to 2008, red for\n",
    "2009, and the first color again for 2010 to 2018."
   ]
  },
  {
   "cell_type": "code",
   "execution_count": null,
   "metadata": {
    "hide-output": false
   },
   "outputs": [],
   "source": [
    "ca_gdp = pd.Series(\n",
    "    [5.2, 1.8, 3.0, 1.9, 3.1, 3.2, 2.8, 2.2, 1.0, -2.8, 3.2, 3.1, 1.7, 2.5, 2.9, 1.0, 1.4, 3.0],\n",
    "    index=list(range(2000, 2018))\n",
    ")\n",
    "\n",
    "fig, ax = plt.subplots()\n",
    "\n",
    "for side in [\"right\", \"top\", \"left\", \"bottom\"]:\n",
    "    ax.spines[side].set_visible(False)"
   ]
  },
  {
   "cell_type": "markdown",
   "metadata": {},
   "source": [
    "## Question 2\n",
    "\n",
    "From [Data Visualization: Rules and Guidelines](../applications/visualization_rules.ipynb)\n",
    "\n",
    "Draft another way to organize time and education by modifying the code below.\n",
    "That is, have two subplots (one for each\n",
    "education level) and four groups of points (one for each year).\n",
    "\n",
    "Why do you think they chose to organize the information the way they\n",
    "did rather than this way?"
   ]
  },
  {
   "cell_type": "code",
   "execution_count": null,
   "metadata": {
    "hide-output": false
   },
   "outputs": [],
   "source": [
    "# Read in data\n",
    "df = pd.read_csv(\"https://storage.googleapis.com/qeds/data/density_wage_data.csv\")\n",
    "df[\"year\"] = df.year.astype(int)  # Convert year to int\n",
    "\n",
    "\n",
    "def single_scatter_plot(df, year, educ, ax, color):\n",
    "    \"\"\"\n",
    "    This function creates a single year's and education level's\n",
    "    log density to log wage plot\n",
    "    \"\"\"\n",
    "    # Filter data to keep only the data of interest\n",
    "    _df = df.query(\"(year == @year) & (group == @educ)\")\n",
    "    _df.plot(\n",
    "        kind=\"scatter\", x=\"density_log\", y=\"wages_logs\", ax=ax, color=color\n",
    "    )\n",
    "\n",
    "    return ax\n",
    "\n",
    "# Create initial plot\n",
    "fig, ax = plt.subplots(1, 4, figsize=(16, 6), sharey=True)\n",
    "\n",
    "for (i, year) in enumerate(df.year.unique()):\n",
    "    single_scatter_plot(df, year, \"college\", ax[i], \"b\")\n",
    "    single_scatter_plot(df, year, \"noncollege\", ax[i], \"r\")\n",
    "    ax[i].set_title(str(year))"
   ]
  },
  {
   "cell_type": "markdown",
   "metadata": {},
   "source": [
    "## Questions 3-5\n",
    "\n",
    "These question uses a dataset from the [Bureau of Transportation\n",
    "Statistics]([https://www.transtats.bts.gov/DL_SelectFields.asp?Table_ID=236&DB_Short_Name=On-Time](https://www.transtats.bts.gov/DL_SelectFields.asp?Table_ID=236&DB_Short_Name=On-Time))\n",
    "that describes the cause for all US domestic flight delays\n",
    "in November 2016. We used the same data in the previous problem set."
   ]
  },
  {
   "cell_type": "code",
   "execution_count": null,
   "metadata": {
    "hide-output": false
   },
   "outputs": [],
   "source": [
    "air_perf = qeds.load(\"airline_performance_dec16\") #[[\"CRSDepTime\", \"Carrier\", \"CarrierDelay\", \"ArrDelay\"]]\n",
    "air_perf.info()\n",
    "air_perf.head"
   ]
  },
  {
   "cell_type": "markdown",
   "metadata": {},
   "source": [
    "The following questions are intentionally somewhat open-ended. For\n",
    "each one, carefully choose the type of visualization you’ll create.\n",
    "Put some effort into choosing colors, labels, and other\n",
    "formatting."
   ]
  },
  {
   "cell_type": "markdown",
   "metadata": {},
   "source": [
    "### Question 3\n",
    "\n",
    "Create a visualization of the relationship between airline (carrier)\n",
    "and delays."
   ]
  },
  {
   "cell_type": "markdown",
   "metadata": {},
   "source": [
    "### Question 4\n",
    "\n",
    "Create a visualization of the relationship between date and delays."
   ]
  },
  {
   "cell_type": "markdown",
   "metadata": {},
   "source": [
    "### Question 5\n",
    "\n",
    "Create a visualization of the relationship between location (origin\n",
    "and/or destination) and delays."
   ]
  }
 ],
 "metadata": {
  "date": 1578267159.364448,
  "filename": "problem_set_7.rst",
  "kernelspec": {
   "display_name": "Python",
   "language": "python3",
   "name": "python3"
  },
  "title": "Problem Set 7"
 },
 "nbformat": 4,
 "nbformat_minor": 2
}