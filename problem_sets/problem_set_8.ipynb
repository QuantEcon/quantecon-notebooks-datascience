{
 "cells": [
  {
   "cell_type": "markdown",
   "metadata": {},
   "source": [
    "# QuantEcon Datascience: Problem Set 8\n",
    "\n",
    "In this problem set, your goal is to train a model to best predict\n",
    "log housing values. The criteria for best prediction is mean squared error.\n",
    "The file ahs.csv contains data from the [American Housing\n",
    "Survey](https://www.census.gov/programs-surveys/ahs.html) . Your predictive model will be\n",
    "graded based on another evaluation sample from the same survey.\n",
    "You should create a function that returns the predictions of your model\n",
    "when given an identically-formated csv file with all the same variables.\n",
    "(Your function should not refit your model on the evaluation sample.)\n",
    "In addition, answer the questions below."
   ]
  },
  {
   "cell_type": "markdown",
   "metadata": {},
   "source": [
    "## Additional Rules\n",
    "\n",
    "You may not use additional data from the American Housing Survey to\n",
    "fit your model. You may use data from other sources (although this\n",
    "is not necessary to recieve a good grade). You may use methods not\n",
    "covered in this course (although this is also not necessary to recieve\n",
    "a good grade)."
   ]
  },
  {
   "cell_type": "code",
   "execution_count": null,
   "metadata": {
    "hide-output": false
   },
   "outputs": [],
   "source": [
    "import pandas as pd\n",
    "import numpy as np\n",
    "from sklearn import (\n",
    "    linear_model, metrics, neural_network, pipeline,\n",
    "    model_selection, tree\n",
    ")\n",
    "from sklearn.ensemble import RandomForestRegressor\n",
    "# load data\n",
    "ahs = pd.read_csv(\"ahs-train.csv\")\n",
    "ahs.info()"
   ]
  },
  {
   "cell_type": "code",
   "execution_count": null,
   "metadata": {
    "hide-output": false
   },
   "outputs": [],
   "source": [
    "# dataframe of variable descriptions\n",
    "ahs_doc = pd.read_csv(\"ahs-doc.csv\", encoding=\"latin1\")\n",
    "with pd.option_context('display.max_rows', None, 'display.max_columns', None, 'max_colwidth', -1):\n",
    "    display(ahs_doc[[\"Variable\",\"Question\",\"Description\",\"Associated.Response.Codes\"]])"
   ]
  },
  {
   "cell_type": "markdown",
   "metadata": {},
   "source": [
    "### Question 1\n",
    "\n",
    "Create exploratory table(s) and/or visualization(s) to check the data\n",
    "and help make modelling choices. These need not be very polished."
   ]
  },
  {
   "cell_type": "markdown",
   "metadata": {},
   "source": [
    "### Question 2\n",
    "\n",
    "What model will you use for prediction and why you\n",
    "did you choose this model?"
   ]
  },
  {
   "cell_type": "markdown",
   "metadata": {},
   "source": [
    "### Question 3\n",
    "\n",
    "Briefly describe how you chose any regularization and other parameters\n",
    "in your model."
   ]
  },
  {
   "cell_type": "markdown",
   "metadata": {},
   "source": [
    "### Question 4\n",
    "\n",
    "What have you done to avoid overfitting?"
   ]
  },
  {
   "cell_type": "markdown",
   "metadata": {},
   "source": [
    "### Question 5\n",
    "\n",
    "Create a visualization to help evaluate of your model. This\n",
    "visualization can be part of your answer to questions 2-4 or it\n",
    "can simply summarize your model’s predictive accuracy."
   ]
  },
  {
   "cell_type": "markdown",
   "metadata": {},
   "source": [
    "### Question 6\n",
    "\n",
    "Create a function that returns the predictions of\n",
    "your model when given an identically-formatted pandas dataframe\n",
    "(created from an identically formatted csv file by pd.read_csv)\n",
    "with all the same variables. Your function should not refit your model on\n",
    "the evaluation sample."
   ]
  }
 ],
 "metadata": {
  "date": 1577609142.9114373,
  "filename": "problem_set_8.rst",
  "kernelspec": {
   "display_name": "Python",
   "language": "python3",
   "name": "python3"
  },
  "title": "QuantEcon Datascience: Problem Set 8"
 },
 "nbformat": 4,
 "nbformat_minor": 2
}